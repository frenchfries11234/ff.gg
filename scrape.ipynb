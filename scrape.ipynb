{
 "cells": [
  {
   "cell_type": "code",
   "execution_count": 23,
   "id": "0c5c2e26",
   "metadata": {},
   "outputs": [
    {
     "name": "stdout",
     "output_type": "stream",
     "text": [
      "[{}]\n",
      "<html lang=\"en\"><head>\n",
      "    <meta charset=\"utf-8\">\n",
      "    <meta name=\"viewport\" content=\"width=device-width, initial-scale=1\">\n",
      "    <meta name=\"description\" content=\"px-captcha\">\n",
      "    <title>Access to this page has been denied</title>\n",
      "    \n",
      "<script src=\"/JMCVuBG8/captcha/captcha.js?a=c&amp;u=b1441e60-6bbd-11f0-bf06-9ec23a91064e&amp;v=&amp;m=0&amp;b=aHR0cHM6Ly9zcG9ydHNib29rLmZhbmR1ZWwuY29tL25hdmlnYXRpb24vbmZsP3RhYj1wYXNzaW5nLXByb3Bz&amp;h=R0VU\"></script><style>@import url('https://fonts.googleapis.com/css2?family=Roboto:ital,wght@0,100;0,300;0,400;0,500;0,700;0,900;1,100;1,300;1,400;1,500;1,700;1,900&display=swap');  div.px-captcha-background { position: fixed; top: 0; left: 0; width: 100%; height: 100%; background-color: rgba(0, 0, 0, 0.31); } div.px-captcha-container { position: fixed; height: 340px; background-color: #fff; font-family: Roboto, sans-serif; } img.px-captcha-logo { display: block; margin: auto; padding: 53px 0 31px; } div.px-captcha-header { color: #626364;  font-size: 29px; f\n"
     ]
    }
   ],
   "source": [
    "from selenium import webdriver\n",
    "from selenium.webdriver.chrome.service import Service\n",
    "from selenium.webdriver.common.by import By\n",
    "from webdriver_manager.chrome import ChromeDriverManager\n",
    "from selenium.webdriver.common.action_chains import ActionChains\n",
    "from selenium.webdriver.support.ui import WebDriverWait\n",
    "from selenium.webdriver.support import expected_conditions as EC\n",
    "import time\n",
    "\n",
    "\n",
    "options = webdriver.ChromeOptions()\n",
    "#options.add_argument('--headless')\n",
    "\n",
    "\n",
    "driver = webdriver.Chrome(service=Service(ChromeDriverManager().install()), options = options)\n",
    "\n",
    "# Open the FanDuel NFL player props page\n",
    "url = \"https://sportsbook.fanduel.com/navigation/nfl?tab=passing-props\"\n",
    "driver.get(url)\n",
    "\n",
    "# Wait for dynamic content to load\n",
    "time.sleep(3)\n",
    "iframes = driver.find_elements(By.TAG_NAME, \"iframe\")\n",
    "print(iframes)\n",
    "\n",
    "#driver.switch_to.frame(iframes[0])  # Replace idx with the correct index\n",
    "\n",
    "\n",
    "hold_button = driver.find_element(By.XPATH, \"//div[contains(text(), 'Press & Hold')]\")\n",
    "actions = ActionChains(driver)\n",
    "actions.click_and_hold(hold_button).pause(10).release().perform()\n",
    "\n",
    "time.sleep(5)\n",
    "driver.execute_script(\"window.scrollTo(0, document.body.scrollHeight);\")\n",
    "time.sleep(3)\n",
    "\n",
    "print(driver.page_source[:1000])\n",
    "\n",
    "props = driver.find_elements(\n",
    "    By.XPATH, \"//div[contains(@aria-label, 'Regular Season Total Passing Yards')]\"\n",
    ")\n",
    "\n",
    "# Print the aria-labels\n",
    "for prop in props:\n",
    "    label = prop.get_attribute(\"aria-label\")\n",
    "    print(label)\n",
    "\n",
    "driver.quit()"
   ]
  },
  {
   "cell_type": "code",
   "execution_count": null,
   "id": "bd56d348",
   "metadata": {},
   "outputs": [],
   "source": [
    "\n",
    "elements = driver.find_elements(By.XPATH, \"//div[contains(@aria-label, 'Total Passing Yards')]\")\n",
    "\n"
   ]
  }
 ],
 "metadata": {
  "kernelspec": {
   "display_name": "venv",
   "language": "python",
   "name": "python3"
  },
  "language_info": {
   "codemirror_mode": {
    "name": "ipython",
    "version": 3
   },
   "file_extension": ".py",
   "mimetype": "text/x-python",
   "name": "python",
   "nbconvert_exporter": "python",
   "pygments_lexer": "ipython3",
   "version": "3.12.3"
  }
 },
 "nbformat": 4,
 "nbformat_minor": 5
}
